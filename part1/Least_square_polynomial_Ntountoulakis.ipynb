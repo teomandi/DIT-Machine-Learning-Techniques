{
 "cells": [
  {
   "cell_type": "markdown",
   "metadata": {},
   "source": [
    "***Problem 1 exercise 1 Least square method with the right Polynomial*** "
   ]
  },
  {
   "cell_type": "code",
   "execution_count": 1,
   "metadata": {},
   "outputs": [],
   "source": [
    "import matplotlib.pyplot as plt\n",
    "import math\n",
    "import numpy as np\n",
    "import copy\n",
    "import random"
   ]
  },
  {
   "cell_type": "code",
   "execution_count": 2,
   "metadata": {},
   "outputs": [
    {
     "data": {
      "text/plain": [
       "Text(0.5, 1.0, 'Observations of y')"
      ]
     },
     "execution_count": 2,
     "metadata": {},
     "output_type": "execute_result"
    },
    {
     "data": {
      "image/png": "[encoded data removed]",
      "text/plain": [
       "<Figure size 432x288 with 1 Axes>"
      ]
     },
     "metadata": {
      "needs_background": "light"
     },
     "output_type": "display_data"
    }
   ],
   "source": [
    "t=np.double([0 for x in range(5)])\n",
    "\n",
    "t0=0.2\n",
    "t1=-1\n",
    "t2=0.9\n",
    "t3=0.7\n",
    "t5=-0.2\n",
    "t=[t0,t1,t2,t3,t5]\n",
    "\n",
    "#number of observations\n",
    "N=20\n",
    "x=np.zeros(N)\n",
    "y=np.zeros(N)\n",
    "\n",
    "#true values of our distribution (without noise)\n",
    "ytrue=np.zeros(N)\n",
    "s=0.1\n",
    "\n",
    "#equidistant x from [0,2]\n",
    "for i in range(N):\n",
    "    x[i]=i/10\n",
    "    \n",
    "#initialize y,ytrue \n",
    "for i in range(N):\n",
    "    noise=np.random.normal(0,s,1)\n",
    "    #noise=0\n",
    "    y[i]=t0+x[i]*t1+(x[i]**2)*t2+(x[i]**3)*t3+(x[i]**5)*t5+noise\n",
    "    ytrue[i]=t0+x[i]*t1+(x[i]**2)*t2+(x[i]**3)*t3+(x[i]**5)*t5\n",
    "m11=np.double([[0 for x in range(5)]for y in range(20)])\n",
    "\n",
    "plt.scatter(x,y)\n",
    "plt.title('Observations of y')\n"
   ]
  },
  {
   "cell_type": "code",
   "execution_count": 3,
   "metadata": {},
   "outputs": [],
   "source": [
    "\n",
    "def ypredict(m1,M,yn):\n",
    "    #initialize the vandermonde vector\n",
    "    \n",
    "    if(M==5):\n",
    "        for i in range(20):\n",
    "            for j in range(5):\n",
    "                if(j!=4):\n",
    "                    m1[i,j]=x[i]**j\n",
    "                else:\n",
    "                    m1[i,j]=x[i]**5\n",
    "    else:\n",
    "         for i in range(20):\n",
    "            for j in range(M):\n",
    "                m1[i,j]=x[i]**j\n",
    "    \n",
    "    #least squares method\n",
    "    \n",
    "    m1t=m1.transpose()\n",
    "    m1m=np.matmul(m1t,m1)\n",
    "    m1in=np.linalg.inv(m1m)\n",
    "    m1fin=np.matmul(m1in,m1t)\n",
    "    a1=np.matmul(m1fin,yn)\n",
    "   \n",
    "    #finding the prediction of y \n",
    "    \n",
    "    yp1=[0 for x in range(20)]\n",
    "    yp1=np.matmul(a1,m1t)\n",
    "    return yp1,a1\n",
    "\n"
   ]
  },
  {
   "cell_type": "code",
   "execution_count": 4,
   "metadata": {},
   "outputs": [
    {
     "name": "stdout",
     "output_type": "stream",
     "text": [
      "Mean square error over the training set is MSEtrain=0.0020172946067287664\n",
      "Mean square error over the test set is MSEtest=0.00226494631164873\n",
      "[ 0.24644331 -1.54466125  1.88509318  0.23102695 -0.17837636]\n",
      "[0.2, -1, 0.9, 0.7, -0.2]\n"
     ]
    },
    {
     "data": {
      "image/png": "[encoded data removed]",
      "text/plain": [
       "<Figure size 504x360 with 1 Axes>"
      ]
     },
     "metadata": {
      "needs_background": "light"
     },
     "output_type": "display_data"
    }
   ],
   "source": [
    "yp,a=ypredict(m11,5,y)\n",
    "\n",
    "#the mean square error over the training set\n",
    "msetr=0\n",
    "for i in range(20):\n",
    "    msetr+=(yp[i]-ytrue[i])**2\n",
    "msetr=msetr/20\n",
    "print('Mean square error over the training set is MSEtrain='+str(msetr))\n",
    "\n",
    "\n",
    "#the mean square error over the test set\n",
    "x1=np.zeros(1000)\n",
    "y1=np.zeros(1000)\n",
    "yp1=np.zeros(1000)\n",
    "for i in range(1000):\n",
    "    x1[i]=random.uniform(0,2.0)\n",
    "for i in range(1000):\n",
    "    y1[i]=t0+x1[i]*t1+(x1[i]**2)*t2+(x1[i]**3)*t3+(x1[i]**5)*t5\n",
    "    yp1[i]=a[0]+a[1]*x1[i]+a[2]*(x1[i]**2)+a[3]*(x1[i]**3)+a[4]*(x1[i]**5)\n",
    "msetest=0\n",
    "for i in range(1000):\n",
    "    msetest+=(yp1[i]-y1[i])**2\n",
    "msetest=msetest/1000\n",
    "print('Mean square error over the test set is MSEtest='+str(msetest))\n",
    "\n",
    "\n",
    "#plot test set and true values\n",
    "\n",
    "fig, ax = plt.subplots(figsize=(7, 5))\n",
    "\n",
    "ax.set_title('Test set and True values')\n",
    "\n",
    "ax.scatter(x1, y1, label='True')\n",
    "ax.scatter(x1, yp1, label='Test')\n",
    "ax.legend()\n",
    "\n",
    "\n",
    "\n",
    "print(a)\n",
    "print(t)"
   ]
  },
  {
   "cell_type": "markdown",
   "metadata": {},
   "source": [
    "***Problem 1 exercise 2 Least square method 2nd and 10th order***"
   ]
  },
  {
   "cell_type": "code",
   "execution_count": 5,
   "metadata": {},
   "outputs": [],
   "source": [
    "#Creating new vandermort vector for 2nd and 10 orther polynomial\n",
    "m2=np.double([[0 for x in range(3)]for y in range(20)])\n",
    "m10=np.double([[0 for x in range(11)]for y in range(20)])\n",
    "M=3\n",
    "N=20\n",
    "j1=0\n",
    "\n",
    "#finiding the mean and the variance of y for 100 experiments for 2nd and 10th degree polynomial\n",
    "\n",
    "y2=np.zeros(20)\n",
    "yp2=[[0 for x in range(20)] for y in range(100)]\n",
    "mean10=np.zeros(20)\n",
    "mean2=np.zeros(20)\n",
    "yp10=[[0 for x in range(20)] for y in range(100)]\n",
    "variance2=np.zeros(20)\n",
    "variance10=np.zeros(20)\n",
    "\n",
    "#in each experiment we have different value of sn from [0.01,1.00]\n",
    "for sn in range(1,101,1):\n",
    "        j=0\n",
    "        sn1=sn/100\n",
    "        for i in range(N):\n",
    "            noise=np.random.normal(0,sn1,1)\n",
    "            y2[i]=t0+x[i]*t1+(x[i]**2)*t2+(x[i]**3)*t3+(x[i]**5)*t5+noise    \n",
    "        yp2[j1],a2=ypredict(m2,3,y2)\n",
    "        yp10[j1],a10=ypredict(m10,11,y2)\n",
    "        j1+=1"
   ]
  },
  {
   "cell_type": "code",
   "execution_count": 6,
   "metadata": {
    "scrolled": false
   },
   "outputs": [
    {
     "name": "stdout",
     "output_type": "stream",
     "text": [
      "for 2nd degree polynomial \n",
      " blue line the true model \n",
      " orange line the mean valus \n",
      " and green line the variance values\n",
      "the same colours for 10th degree polynomial\n"
     ]
    },
    {
     "data": {
      "text/plain": [
       "<matplotlib.legend.Legend at 0x26e6e450d30>"
      ]
     },
     "execution_count": 6,
     "metadata": {},
     "output_type": "execute_result"
    },
    {
     "data": {
      "image/png": "[encoded data removed]",
      "text/plain": [
       "<Figure size 504x360 with 1 Axes>"
      ]
     },
     "metadata": {
      "needs_background": "light"
     },
     "output_type": "display_data"
    },
    {
     "data": {
      "image/png": "[encoded data removed]",
      "text/plain": [
       "<Figure size 504x360 with 1 Axes>"
      ]
     },
     "metadata": {
      "needs_background": "light"
     },
     "output_type": "display_data"
    }
   ],
   "source": [
    "\n",
    "for j in range(20):\n",
    "        for j1 in range(100):\n",
    "            mean2[j]+=yp2[j1][j]\n",
    "            mean10[j]+=yp10[j1][j]\n",
    "        mean2[j]=mean2[j]/100\n",
    "        mean10[j]=mean10[j]/100\n",
    "        \n",
    "for j in range(20):\n",
    "        sumy2=0\n",
    "        sumy10=0\n",
    "        for j1 in range(100):\n",
    "            sumy2+=(yp2[j1][j]-mean2[j])**2\n",
    "            sumy10+=(yp10[j1][j]-mean10[j])**2\n",
    "        variance2[j]=sumy2/(100-1)        \n",
    "        variance10[j]=sumy10/(100-1)   \n",
    "        \n",
    "        \n",
    "#plot for 2nd degree polynomial\n",
    "\n",
    "\n",
    "\n",
    "print('for 2nd degree polynomial \\n blue line the true model \\n orange line the mean valus \\n and green line the variance values')\n",
    "\n",
    "fig, ax = plt.subplots(figsize=(7, 5))\n",
    "\n",
    "ax.set_title('Least Squares for 2nd degree polynomial')\n",
    "\n",
    "ax.scatter(x, ytrue, label='True')\n",
    "ax.scatter(x, mean2, label='Mean')\n",
    "ax.scatter(x, variance2, label='Variance')\n",
    "ax.legend()\n",
    "\n",
    "\n",
    "\n",
    "#plot for 10th degree polynomial\n",
    "\n",
    "\n",
    "\n",
    "print('the same colours for 10th degree polynomial')\n",
    "\n",
    "fig2, ax2 = plt.subplots(figsize=(7, 5))\n",
    "\n",
    "ax2.set_title('Least Squares for 10th degree polynomial')\n",
    "\n",
    "ax2.scatter(x, ytrue, label='True')\n",
    "ax2.scatter(x, mean10, label='Mean')\n",
    "ax2.scatter(x, variance10, label='Variance')\n",
    "ax2.legend()\n",
    "\n"
   ]
  },
  {
   "cell_type": "markdown",
   "metadata": {},
   "source": [
    "# Problem 1 exercise 3 Ridge Regression\n"
   ]
  },
  {
   "cell_type": "code",
   "execution_count": 7,
   "metadata": {},
   "outputs": [],
   "source": [
    "#function that predicts y for the Ridge Regression method if it has as inputs the vandermonde vector, the observations and the lamda (bias term)\n",
    "def ypredictRidge(m1,yn,l):\n",
    "    for i in range(20):\n",
    "        for j in range(5):\n",
    "            if(j!=4):\n",
    "                m1[i,j]=x[i]**j\n",
    "            else:\n",
    "                m1[i,j]=x[i]**5\n",
    "\n",
    "    \n",
    "    m1t=m1.transpose()\n",
    "    m1m=np.matmul(m1t,m1)\n",
    "    m1m+=l*np.identity(5)\n",
    "    m1in=np.linalg.inv(m1m)\n",
    "    m1fin=np.matmul(m1in,m1t)\n",
    "    a1=np.matmul(m1fin,yn)\n",
    "    \n",
    "    \n",
    "    yp1=[0 for x in range(20)]\n",
    "    yp1=np.matmul(a1,m1t)\n",
    "    return yp1,a1"
   ]
  },
  {
   "cell_type": "code",
   "execution_count": 8,
   "metadata": {},
   "outputs": [
    {
     "name": "stdout",
     "output_type": "stream",
     "text": [
      "to kalitero MSE gia to ridge einai MSEr=0.0018876515493909756 kai to kalitero l=6 Train MSE: 0.0014967872119633018\n"
     ]
    }
   ],
   "source": [
    "#we calculate again the mean square error for the training and for the test set\n",
    "MSE_test=100\n",
    "MSE_train=100\n",
    "best_l =-1\n",
    "ypr=np.zeros(1000)\n",
    "\n",
    "#we run the algorith for lamda [0,2,0.01] because we think that the best lamda will be close to 0\n",
    "for l in range(0,200):\n",
    "    msetemp1=0\n",
    "    msetemp2=0\n",
    "    l1=l/100\n",
    "    yp3,a3=ypredictRidge(m11,y,l1)\n",
    "    for j in range(20):\n",
    "        msetemp2 += (ytrue[j]-yp3[j])**2\n",
    "    msetemp2=msetemp2/20\n",
    "    if (msetemp2<MSE_train) :\n",
    "        MSE_train=msetemp2\n",
    "    \n",
    "    #we create the test set and we calculate the MSE of the test set\n",
    "    \n",
    "    for i in range(1000):\n",
    "        ypr[i]=a3[0]+a3[1]*x1[i]+a3[2]*(x1[i]**2)+a3[3]*(x1[i]**3)+a3[4]*(x1[i]**5)\n",
    "        msetemp1+=(y1[i]-ypr[i])**2\n",
    "        \n",
    "    msetemp1=msetemp1/1000\n",
    "    if (msetemp1<MSE_test) :\n",
    "        MSE_test=msetemp1\n",
    "        best_l=l\n",
    "    \n",
    "print('to kalitero MSE gia to ridge einai MSEr='+str(MSE_test)+' kai to kalitero l='+str(best_l) + \" Train MSE: \" \n",
    "     +str(MSE_train))\n",
    "    "
   ]
  },
  {
   "cell_type": "code",
   "execution_count": null,
   "metadata": {},
   "outputs": [],
   "source": []
  },
  {
   "cell_type": "code",
   "execution_count": null,
   "metadata": {},
   "outputs": [],
   "source": []
  }
 ],
 "metadata": {
  "kernelspec": {
   "display_name": "Python 3",
   "language": "python",
   "name": "python3"
  },
  "language_info": {
   "codemirror_mode": {
    "name": "ipython",
    "version": 3
   },
   "file_extension": ".py",
   "mimetype": "text/x-python",
   "name": "python",
   "nbconvert_exporter": "python",
   "pygments_lexer": "ipython3",
   "version": "3.7.3"
  }
 },
 "nbformat": 4,
 "nbformat_minor": 2
}

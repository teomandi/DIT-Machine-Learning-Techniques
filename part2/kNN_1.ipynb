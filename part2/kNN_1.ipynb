{
 "cells": [
  {
   "cell_type": "markdown",
   "metadata": {},
   "source": [
    "# Part 2\n",
    "## 1. Knn Classifier"
   ]
  },
  {
   "cell_type": "markdown",
   "metadata": {},
   "source": [
    "Imports"
   ]
  },
  {
   "cell_type": "code",
   "execution_count": 34,
   "metadata": {},
   "outputs": [],
   "source": [
    "import pandas as pd\n",
    "import numpy as np\n",
    "import math\n",
    "\n",
    "%matplotlib inline\n",
    "import matplotlib.pyplot as plt"
   ]
  },
  {
   "cell_type": "markdown",
   "metadata": {},
   "source": [
    "Important functions"
   ]
  },
  {
   "cell_type": "code",
   "execution_count": 35,
   "metadata": {},
   "outputs": [],
   "source": [
    "\"\"\"\n",
    "    Calculates the eyclidean distance between to vectors\n",
    "\"\"\"\n",
    "def euclidean_distance(point1, point2):\n",
    "    sum_squared_distance = 0\n",
    "    for i in range(len(point1)):\n",
    "        sum_squared_distance += math.pow(point1[i] - point2[i], 2)\n",
    "    return math.sqrt(sum_squared_distance)\n",
    "\n",
    "\"\"\"\n",
    "    Implements the knn algorithm\n",
    "\"\"\"\n",
    "def knn(data, query, k): \n",
    "    neighbor_distances = []\n",
    "    for index, row in enumerate(data):\n",
    "        distance = euclidean_distance(row, query)\n",
    "        neighbor_distances.append((distance, index))\n",
    "    \n",
    "    sorted_neighbor_distances = sorted(neighbor_distances)\n",
    "    k_nearest_distances_and_indices = sorted_neighbor_distances[:k]\n",
    "\n",
    "    #return only the indeces\n",
    "    return [i[1] for i in k_nearest_distances_and_indices] \n",
    "\n",
    "\"\"\"\n",
    "    Takes a list with objects and returns the one that appears\n",
    "    the most inside the list.\n",
    "\"\"\"\n",
    "def most_frequent(label_list): \n",
    "    counter = 0\n",
    "    most_common = label_list[0] \n",
    "    for label in label_list: \n",
    "        curr_frequency = label_list.count(label) \n",
    "        if(curr_frequency> counter): \n",
    "            counter = curr_frequency \n",
    "            most_common = label \n",
    "    return most_common \n",
    "\n",
    "\"\"\"\n",
    "    Splits tha given dataset to test and train according to the index. That is \n",
    "    to implement the 10-Fold cross validation\n",
    "\"\"\"\n",
    "def split_test_train(df, index):\n",
    "    test = df[int(index*len(df)*0.1):int(index*len(df)*0.1)+int(len(df)*0.1)]\n",
    "    train = df[0:int(index*len(df)*0.1)]\n",
    "    train = train.append(df[int(index*len(df)*0.1)+int(len(df)*0.1):])\n",
    "    return train, test\n",
    "\n",
    "\"\"\"\n",
    "    Draws a scatter with the means in the y axe and Ks in the x.\n",
    "\"\"\"\n",
    "def draw_scatter(ks, means):\n",
    "    plt.scatter(ks, means)\n",
    "    plt.ylabel('Mean')\n",
    "    plt.xlabel('K')"
   ]
  },
  {
   "cell_type": "markdown",
   "metadata": {},
   "source": [
    "Runs the **KNN classifier** for **40 ks** on the given dataset using **10-fold _cross valistation_**"
   ]
  },
  {
   "cell_type": "code",
   "execution_count": 48,
   "metadata": {
    "scrolled": true
   },
   "outputs": [],
   "source": [
    "def Knn_classifier(df):\n",
    "    ks = []\n",
    "    means = []\n",
    "    for k in range(1,40):\n",
    "\n",
    "        sum = 0\n",
    "        for index in range(10):\n",
    "            # Make the train/test set\n",
    "            train, test = split_test_train(df, index)\n",
    "\n",
    "\n",
    "            train_x = train.iloc[:,:-1].values\n",
    "            train_y = train.iloc[:,-1].values\n",
    "\n",
    "            test_x = test.iloc[:,:-1].values\n",
    "            test_y = test.iloc[:,-1].values\n",
    "\n",
    "\n",
    "            ## ------ KNN ------ ## \n",
    "            total_correct = 0\n",
    "            t_y = list(train_y)\n",
    "            for i in range(len(test_x)):\n",
    "                results=knn(train_x, test_x[i], k)\n",
    "                label_results = []\n",
    "                for j in sorted(results):\n",
    "                    label_results.append(t_y[j])\n",
    "                final_label = most_frequent(list(label_results))\n",
    "\n",
    "                if(final_label == test_y[i]):\n",
    "                    total_correct +=1\n",
    "\n",
    "            accuracy = total_correct/len(test_x)\n",
    "            sum += accuracy\n",
    "\n",
    "        means.append(sum/10)\n",
    "        ks.append(k)\n",
    "        print(\"K:\", k, \"Percentage of Mean of Accuracy : \", round(sum/10, 4)*100, \"%\")\n",
    "    return ks, means"
   ]
  },
  {
   "cell_type": "markdown",
   "metadata": {},
   "source": [
    "---"
   ]
  },
  {
   "cell_type": "markdown",
   "metadata": {},
   "source": [
    "# Experiments.\n",
    "\n",
    "## 1. Iris Dataset"
   ]
  },
  {
   "cell_type": "code",
   "execution_count": 49,
   "metadata": {},
   "outputs": [
    {
     "name": "stdout",
     "output_type": "stream",
     "text": [
      "K: 1 Percentage of Mean of Accuracy :  96.0 %\n",
      "K: 2 Percentage of Mean of Accuracy :  95.33 %\n",
      "K: 3 Percentage of Mean of Accuracy :  96.67 %\n",
      "K: 4 Percentage of Mean of Accuracy :  96.0 %\n",
      "K: 5 Percentage of Mean of Accuracy :  96.67 %\n",
      "K: 6 Percentage of Mean of Accuracy :  96.67 %\n",
      "K: 7 Percentage of Mean of Accuracy :  96.0 %\n",
      "K: 8 Percentage of Mean of Accuracy :  96.67 %\n",
      "K: 9 Percentage of Mean of Accuracy :  96.0 %\n",
      "K: 10 Percentage of Mean of Accuracy :  96.0 %\n",
      "K: 11 Percentage of Mean of Accuracy :  96.67 %\n",
      "K: 12 Percentage of Mean of Accuracy :  96.0 %\n",
      "K: 13 Percentage of Mean of Accuracy :  96.67 %\n",
      "K: 14 Percentage of Mean of Accuracy :  96.67 %\n",
      "K: 15 Percentage of Mean of Accuracy :  96.67 %\n",
      "K: 16 Percentage of Mean of Accuracy :  97.33000000000001 %\n",
      "K: 17 Percentage of Mean of Accuracy :  96.67 %\n",
      "K: 18 Percentage of Mean of Accuracy :  96.67 %\n",
      "K: 19 Percentage of Mean of Accuracy :  96.67 %\n",
      "K: 20 Percentage of Mean of Accuracy :  96.0 %\n",
      "K: 21 Percentage of Mean of Accuracy :  96.0 %\n",
      "K: 22 Percentage of Mean of Accuracy :  96.67 %\n",
      "K: 23 Percentage of Mean of Accuracy :  95.33 %\n",
      "K: 24 Percentage of Mean of Accuracy :  94.67 %\n",
      "K: 25 Percentage of Mean of Accuracy :  94.67 %\n",
      "K: 26 Percentage of Mean of Accuracy :  94.67 %\n",
      "K: 27 Percentage of Mean of Accuracy :  94.0 %\n",
      "K: 28 Percentage of Mean of Accuracy :  95.33 %\n",
      "K: 29 Percentage of Mean of Accuracy :  95.33 %\n",
      "K: 30 Percentage of Mean of Accuracy :  94.67 %\n",
      "K: 31 Percentage of Mean of Accuracy :  94.0 %\n",
      "K: 32 Percentage of Mean of Accuracy :  92.67 %\n",
      "K: 33 Percentage of Mean of Accuracy :  94.0 %\n",
      "K: 34 Percentage of Mean of Accuracy :  94.0 %\n",
      "K: 35 Percentage of Mean of Accuracy :  94.67 %\n",
      "K: 36 Percentage of Mean of Accuracy :  94.67 %\n",
      "K: 37 Percentage of Mean of Accuracy :  94.67 %\n",
      "K: 38 Percentage of Mean of Accuracy :  95.33 %\n",
      "K: 39 Percentage of Mean of Accuracy :  94.67 %\n"
     ]
    }
   ],
   "source": [
    "file_path = \"../UCIdata-exercise1/iris.data\"\n",
    "\n",
    "df = pd.read_csv(file_path, header=None).sample(frac=1)\n",
    "ks, means = Knn_classifier(df)"
   ]
  },
  {
   "cell_type": "code",
   "execution_count": 50,
   "metadata": {},
   "outputs": [
    {
     "name": "stdout",
     "output_type": "stream",
     "text": [
      "Max mean of accuracy:  0.973333  for k: 16\n"
     ]
    },
    {
     "data": {
      "image/png": "[encoded data removed]",
      "text/plain": [
       "<Figure size 432x288 with 1 Axes>"
      ]
     },
     "metadata": {
      "needs_background": "light"
     },
     "output_type": "display_data"
    }
   ],
   "source": [
    "draw_scatter(ks, means)\n",
    "print(\"Max mean of accuracy: \", round(max(means),6), \" for k:\", ks[means.index(max(means))])"
   ]
  },
  {
   "cell_type": "markdown",
   "metadata": {},
   "source": [
    "---"
   ]
  },
  {
   "cell_type": "markdown",
   "metadata": {},
   "source": [
    "## Pima Indians Diabetes Dataset"
   ]
  },
  {
   "cell_type": "code",
   "execution_count": 51,
   "metadata": {},
   "outputs": [
    {
     "name": "stdout",
     "output_type": "stream",
     "text": [
      "K: 1 Percentage of Mean of Accuracy :  68.28999999999999 %\n",
      "K: 2 Percentage of Mean of Accuracy :  67.75999999999999 %\n",
      "K: 3 Percentage of Mean of Accuracy :  69.61 %\n",
      "K: 4 Percentage of Mean of Accuracy :  70.66 %\n",
      "K: 5 Percentage of Mean of Accuracy :  71.58 %\n",
      "K: 6 Percentage of Mean of Accuracy :  71.17999999999999 %\n",
      "K: 7 Percentage of Mean of Accuracy :  73.42 %\n",
      "K: 8 Percentage of Mean of Accuracy :  72.24000000000001 %\n",
      "K: 9 Percentage of Mean of Accuracy :  74.08 %\n",
      "K: 10 Percentage of Mean of Accuracy :  73.42 %\n",
      "K: 11 Percentage of Mean of Accuracy :  73.16 %\n",
      "K: 12 Percentage of Mean of Accuracy :  74.08 %\n",
      "K: 13 Percentage of Mean of Accuracy :  74.33999999999999 %\n",
      "K: 14 Percentage of Mean of Accuracy :  74.74 %\n",
      "K: 15 Percentage of Mean of Accuracy :  75.13 %\n",
      "K: 16 Percentage of Mean of Accuracy :  74.61 %\n",
      "K: 17 Percentage of Mean of Accuracy :  75.39 %\n",
      "K: 18 Percentage of Mean of Accuracy :  75.66000000000001 %\n",
      "K: 19 Percentage of Mean of Accuracy :  75.66000000000001 %\n",
      "K: 20 Percentage of Mean of Accuracy :  75.66000000000001 %\n",
      "K: 21 Percentage of Mean of Accuracy :  75.66000000000001 %\n",
      "K: 22 Percentage of Mean of Accuracy :  76.18 %\n",
      "K: 23 Percentage of Mean of Accuracy :  75.92 %\n",
      "K: 24 Percentage of Mean of Accuracy :  75.26 %\n",
      "K: 25 Percentage of Mean of Accuracy :  75.0 %\n",
      "K: 26 Percentage of Mean of Accuracy :  74.74 %\n",
      "K: 27 Percentage of Mean of Accuracy :  74.87 %\n",
      "K: 28 Percentage of Mean of Accuracy :  75.0 %\n",
      "K: 29 Percentage of Mean of Accuracy :  74.21 %\n",
      "K: 30 Percentage of Mean of Accuracy :  73.82 %\n",
      "K: 31 Percentage of Mean of Accuracy :  73.68 %\n",
      "K: 32 Percentage of Mean of Accuracy :  74.08 %\n",
      "K: 33 Percentage of Mean of Accuracy :  73.55000000000001 %\n",
      "K: 34 Percentage of Mean of Accuracy :  73.68 %\n",
      "K: 35 Percentage of Mean of Accuracy :  74.21 %\n",
      "K: 36 Percentage of Mean of Accuracy :  74.47 %\n",
      "K: 37 Percentage of Mean of Accuracy :  74.08 %\n",
      "K: 38 Percentage of Mean of Accuracy :  73.95 %\n",
      "K: 39 Percentage of Mean of Accuracy :  73.42 %\n"
     ]
    }
   ],
   "source": [
    "file_path = \"../UCIdata-exercise1/pima-indians-diabetes.data\"\n",
    "\n",
    "\n",
    "df = pd.read_csv(file_path, header=None).sample(frac=1)\n",
    "ks, means = Knn_classifier(df)"
   ]
  },
  {
   "cell_type": "code",
   "execution_count": 52,
   "metadata": {},
   "outputs": [
    {
     "name": "stdout",
     "output_type": "stream",
     "text": [
      "Max mean:  0.761842  for k: 22\n"
     ]
    },
    {
     "data": {
      "image/png": "[encoded data removed]",
      "text/plain": [
       "<Figure size 432x288 with 1 Axes>"
      ]
     },
     "metadata": {
      "needs_background": "light"
     },
     "output_type": "display_data"
    }
   ],
   "source": [
    "draw_scatter(ks, means)\n",
    "print(\"Max mean: \", round(max(means),6), \" for k:\", ks[means.index(max(means))])"
   ]
  },
  {
   "cell_type": "markdown",
   "metadata": {},
   "source": [
    "---"
   ]
  },
  {
   "cell_type": "markdown",
   "metadata": {},
   "source": [
    "## Report\n",
    "\n",
    "As we can see in KNN, in both of the tests, as we increased the value of K the accuracy of the classification increased. Then, it find a pick in which we get the best results, and then it started to fall. That happens because as the K gets bigger a lot more non reliable points are getting to our spying region and which they polute our classification"
   ]
  }
 ],
 "metadata": {
  "kernelspec": {
   "display_name": "Python 3",
   "language": "python",
   "name": "python3"
  },
  "language_info": {
   "codemirror_mode": {
    "name": "ipython",
    "version": 3
   },
   "file_extension": ".py",
   "mimetype": "text/x-python",
   "name": "python",
   "nbconvert_exporter": "python",
   "pygments_lexer": "ipython3",
   "version": "3.7.3"
  }
 },
 "nbformat": 4,
 "nbformat_minor": 2
}

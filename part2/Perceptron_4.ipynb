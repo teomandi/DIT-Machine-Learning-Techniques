{
 "cells": [
  {
   "cell_type": "markdown",
   "metadata": {},
   "source": [
    "# Part 2\n",
    "\n",
    "## 4. Perceptron\n"
   ]
  },
  {
   "cell_type": "markdown",
   "metadata": {},
   "source": [
    "Imports"
   ]
  },
  {
   "cell_type": "code",
   "execution_count": 11,
   "metadata": {},
   "outputs": [],
   "source": [
    "import pandas as pd\n",
    "import numpy as np\n",
    "import math\n",
    "from random import random\n",
    "\n",
    "%matplotlib inline\n",
    "import matplotlib.pyplot as plt"
   ]
  },
  {
   "cell_type": "markdown",
   "metadata": {},
   "source": [
    "Load the Iris dataset"
   ]
  },
  {
   "cell_type": "code",
   "execution_count": 12,
   "metadata": {},
   "outputs": [],
   "source": [
    "file_path = \"../UCIdata-exercise1/iris.data\"\n",
    "df = pd.read_csv(file_path, header=None).sample(frac=1)"
   ]
  },
  {
   "cell_type": "markdown",
   "metadata": {},
   "source": [
    "---"
   ]
  },
  {
   "cell_type": "code",
   "execution_count": 17,
   "metadata": {},
   "outputs": [],
   "source": [
    "\"\"\"\n",
    "    Draws a plot\n",
    "\"\"\"\n",
    "def plot_scatter(x, y):\n",
    "    for i, point in enumerate(x):\n",
    "        if y[i] == 'Iris-setosa':\n",
    "            plt.scatter(x[i,0], x[i,1], color=\"red\", marker='s')\n",
    "        elif y[i] == 'Iris-versicolor':\n",
    "            plt.scatter(x[i,0], x[i,1], color=\"blue\", marker='x')\n",
    "        else:\n",
    "            plt.scatter(x[i,0], x[i,1], color=\"black\", marker='o')\n",
    "\n",
    "        plt.xlabel('sepal length in cm')\n",
    "        plt.ylabel('petal length in cm')\n",
    "\n",
    "\"\"\"\n",
    "   The perceptron algorithm for iris dataset\n",
    "\"\"\"\n",
    "def perceptron(train):\n",
    "    w = [0, 0, 0, 0, 0] \n",
    "    while(1):\n",
    "        stop_flag = True\n",
    "        for row in train:\n",
    "            t=1\n",
    "            if(row[-1] == \"Iris-setosa\"):\n",
    "                t=-1\n",
    "            wtx = 0\n",
    "            for i, x in enumerate(row[:-1]):\n",
    "                wtx += w[i]*x*t\n",
    "            wtx += w[4]*(-1)*t \n",
    "            if wtx <= 0:\n",
    "                #update\n",
    "                for i in range(len(w)):\n",
    "                    if i<4:\n",
    "                        w[i] = w[i]+row[i]*t\n",
    "                    else:\n",
    "                        w[i] = w[i]+t*(-1)\n",
    "                stop_flag = False\n",
    "        if stop_flag:\n",
    "            break;\n",
    "        else:\n",
    "            continue;\n",
    "    return w"
   ]
  },
  {
   "cell_type": "code",
   "execution_count": 18,
   "metadata": {},
   "outputs": [
    {
     "data": {
      "image/png": "[encoded data removed]",
      "text/plain": [
       "<Figure size 432x288 with 1 Axes>"
      ]
     },
     "metadata": {
      "needs_background": "light"
     },
     "output_type": "display_data"
    }
   ],
   "source": [
    "data = df.values\n",
    "y = data[:, [4]]\n",
    "x = data[:, [0,2]]\n",
    "\n",
    "plot_scatter(x,y)"
   ]
  },
  {
   "cell_type": "markdown",
   "metadata": {},
   "source": [
    "As we can see from the plot, those three catergories are _not linear seperatable_. That's because the of **Iris-versicolor** and **Iris-virginica** are mixed.\n",
    "\n",
    "So, we cannot seperate those three classes with just one perceptron.\n",
    "\n",
    "However if we combine the **Iris-versicolor** and **Iris-virginica** into one class then the new categories are _linear seperatable_ as we can see in the plot below."
   ]
  },
  {
   "cell_type": "code",
   "execution_count": 19,
   "metadata": {},
   "outputs": [
    {
     "data": {
      "image/png": "[encoded data removed]",
      "text/plain": [
       "<Figure size 432x288 with 1 Axes>"
      ]
     },
     "metadata": {
      "needs_background": "light"
     },
     "output_type": "display_data"
    }
   ],
   "source": [
    "y = np.where(y == 'Iris-setosa', \"Iris-setosa\",\"Iris-versicolor\")\n",
    "plot_scatter(x,y)"
   ]
  },
  {
   "cell_type": "code",
   "execution_count": 22,
   "metadata": {},
   "outputs": [
    {
     "name": "stdout",
     "output_type": "stream",
     "text": [
      "Accuracy:  100.0 %\n"
     ]
    }
   ],
   "source": [
    "# Randomly split the dataset into train/test\n",
    "index = int(random()*10)\n",
    "test = df[int(index*len(df)*0.1):int(index*len(df)*0.1)+int(len(df)*0.1)]\n",
    "train = df[0:int(index*len(df)*0.1)]\n",
    "train = train.append(df[int(index*len(df)*0.1)+int(len(df)*0.1):])\n",
    "\n",
    "train = train.values\n",
    "test = test.values\n",
    "\n",
    "w = perceptron(train)\n",
    "\n",
    "total_correct = 0\n",
    "for row in test:\n",
    "    pos = 0\n",
    "    for i, x in enumerate(row[:-1]):\n",
    "        pos += x*w[i]\n",
    "    pos += w[4]\n",
    "    if pos < 0:\n",
    "        if row[-1] == \"Iris-setosa\":\n",
    "            total_correct+=1\n",
    "    else:\n",
    "        if row[-1] == \"Iris-versicolor\" or row[-1] == \"Iris-virginica\":\n",
    "            total_correct+=1\n",
    "\n",
    "accuracy = total_correct/len(test)\n",
    "print(\"Accuracy: \", accuracy*100, \"%\")"
   ]
  },
  {
   "cell_type": "markdown",
   "metadata": {},
   "source": [
    "---"
   ]
  },
  {
   "cell_type": "markdown",
   "metadata": {},
   "source": [
    "## Repost\n",
    "\n",
    "As we can see the problem now has become linear seperatable, and the perceptron achivies 100% accuracy because it can easily seperates the two classes."
   ]
  },
  {
   "cell_type": "code",
   "execution_count": null,
   "metadata": {},
   "outputs": [],
   "source": []
  }
 ],
 "metadata": {
  "kernelspec": {
   "display_name": "Python 3",
   "language": "python",
   "name": "python3"
  },
  "language_info": {
   "codemirror_mode": {
    "name": "ipython",
    "version": 3
   },
   "file_extension": ".py",
   "mimetype": "text/x-python",
   "name": "python",
   "nbconvert_exporter": "python",
   "pygments_lexer": "ipython3",
   "version": "3.7.3"
  }
 },
 "nbformat": 4,
 "nbformat_minor": 2
}

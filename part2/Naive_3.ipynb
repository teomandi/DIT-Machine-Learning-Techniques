{
 "cells": [
  {
   "cell_type": "markdown",
   "metadata": {},
   "source": [
    "# Part 2\n",
    "\n",
    "## 3. Naive Bayes Clasifier"
   ]
  },
  {
   "cell_type": "markdown",
   "metadata": {},
   "source": [
    "Imports"
   ]
  },
  {
   "cell_type": "code",
   "execution_count": 2,
   "metadata": {},
   "outputs": [],
   "source": [
    "import pandas as pd\n",
    "import numpy as np\n",
    "import math\n",
    "\n",
    "%matplotlib inline\n",
    "import matplotlib.pyplot as plt"
   ]
  },
  {
   "cell_type": "markdown",
   "metadata": {},
   "source": [
    "Function Declaration"
   ]
  },
  {
   "cell_type": "code",
   "execution_count": 12,
   "metadata": {},
   "outputs": [],
   "source": [
    "\"\"\"\n",
    "    Split the dataset by class values, returns a dictionary\n",
    "\"\"\"\n",
    "def separate_by_class(dataset):\n",
    "    separated = dict()\n",
    "    for data in dataset:\n",
    "        class_value = data[-1]\n",
    "        if (class_value not in separated):\n",
    "            separated[class_value] = list()\n",
    "        separated[class_value].append(data[:-1]) # removeve the last column\n",
    "    return separated\n",
    "\n",
    "\"\"\"\n",
    "    Calculate the Gaussian probability distribution function for x\n",
    "\"\"\"\n",
    "def calculate_probability(row_x, mean, std, class_prop):\n",
    "    p = class_prop #not equal posibility\n",
    "    for i, x in enumerate(row_x):\n",
    "        exponent = math.exp(-((x-mean[i])**2 / (2 * std[i]**2 )))\n",
    "        p *= (1 / (math.sqrt(2 * math.pi) * std[i])) * exponent\n",
    "    return p\n",
    "\n",
    "\"\"\"\n",
    "    Splits tha given dataset to test and train according to the index. That is \n",
    "    to implement the 10-Fold cross validation\n",
    "\"\"\"\n",
    "def split_test_train(df, index):\n",
    "    test = df[int(index*len(df)*0.1):int(index*len(df)*0.1)+int(len(df)*0.1)]\n",
    "    train = df[0:int(index*len(df)*0.1)]\n",
    "    train = train.append(df[int(index*len(df)*0.1)+int(len(df)*0.1):])\n",
    "    return train, test"
   ]
  },
  {
   "cell_type": "markdown",
   "metadata": {},
   "source": [
    "Load the dataset"
   ]
  },
  {
   "cell_type": "code",
   "execution_count": 32,
   "metadata": {},
   "outputs": [],
   "source": [
    "file_path = \"../UCIdata-exercise1/pima-indians-diabetes.data\"\n",
    "\n",
    "\n",
    "df = pd.read_csv(file_path, header=None).sample(frac=1)"
   ]
  },
  {
   "cell_type": "code",
   "execution_count": 35,
   "metadata": {},
   "outputs": [
    {
     "name": "stdout",
     "output_type": "stream",
     "text": [
      "1 ) Accuracy:  72.37 %\n",
      "2 ) Accuracy:  73.68 %\n",
      "3 ) Accuracy:  75.0 %\n",
      "4 ) Accuracy:  75.0 %\n",
      "5 ) Accuracy:  80.25999999999999 %\n",
      "6 ) Accuracy:  77.63 %\n",
      "7 ) Accuracy:  71.05 %\n",
      "8 ) Accuracy:  78.95 %\n",
      "9 ) Accuracy:  75.0 %\n",
      "10 ) Accuracy:  75.0 %\n"
     ]
    }
   ],
   "source": [
    "sum = 0\n",
    "\n",
    "# 10-fold Validation\n",
    "for index in range(10):\n",
    "    # Make the train/test set\n",
    "    train, test = split_test_train(df, index)\n",
    "    \n",
    "    train = train.values\n",
    "    test = test.values\n",
    "    train_seperated = separate_by_class(train)\n",
    "    \n",
    "    #calculate the std, the mean and the propability of each class\n",
    "    std_list = []\n",
    "    mean_list = []\n",
    "    class_propability = []\n",
    "    labels = []\n",
    "    for class_label in train_seperated:\n",
    "        mean_list.append(np.mean(train_seperated[class_label], axis=0))\n",
    "        std_list.append(np.std(train_seperated[class_label], axis=0))\n",
    "        \n",
    "        class_propability.append(len(train_seperated[class_label])/(float(len(df))*0.9))\n",
    "        labels.append(class_label)\n",
    "\n",
    "    total_correct = 0\n",
    "    for i, row in enumerate(test):\n",
    "        p0 = calculate_probability(row[:-1], mean_list[0], std_list[0], class_propability[0])\n",
    "        p1 = calculate_probability(row[:-1], mean_list[1], std_list[1], class_propability[1])\n",
    "        # print(\"P0: \", p0, \" P1 \", p1)\n",
    "        final_label = labels[0] if p0 > p1  else labels[1]\n",
    "        if(final_label == row[-1]):\n",
    "            total_correct +=1\n",
    "            \n",
    "    accuracy = total_correct/len(test)\n",
    "    sum += accuracy\n",
    "    print(index+1, \") Accuracy: \", round(accuracy, 4)*100, \"%\")\n",
    "    "
   ]
  },
  {
   "cell_type": "code",
   "execution_count": 36,
   "metadata": {},
   "outputs": [
    {
     "name": "stdout",
     "output_type": "stream",
     "text": [
      "Mean of accuracy :  75.39 %\n"
     ]
    }
   ],
   "source": [
    "print(\"Mean of accuracy : \", round(sum/10, 4)*100, \"%\")"
   ]
  },
  {
   "cell_type": "markdown",
   "metadata": {},
   "source": [
    "---"
   ]
  }
 ],
 "metadata": {
  "kernelspec": {
   "display_name": "Python 3",
   "language": "python",
   "name": "python3"
  },
  "language_info": {
   "codemirror_mode": {
    "name": "ipython",
    "version": 3
   },
   "file_extension": ".py",
   "mimetype": "text/x-python",
   "name": "python",
   "nbconvert_exporter": "python",
   "pygments_lexer": "ipython3",
   "version": "3.7.3"
  }
 },
 "nbformat": 4,
 "nbformat_minor": 2
}

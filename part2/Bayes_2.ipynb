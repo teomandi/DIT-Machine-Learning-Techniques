{
 "cells": [
  {
   "cell_type": "markdown",
   "metadata": {},
   "source": [
    "# Part 2\n",
    "\n",
    "## 2. Bayes Classifier"
   ]
  },
  {
   "cell_type": "markdown",
   "metadata": {},
   "source": [
    "Imports"
   ]
  },
  {
   "cell_type": "code",
   "execution_count": 9,
   "metadata": {},
   "outputs": [],
   "source": [
    "import pandas as pd\n",
    "import numpy as np\n",
    "import math\n",
    "\n",
    "%matplotlib inline\n",
    "import matplotlib.pyplot as plt"
   ]
  },
  {
   "cell_type": "markdown",
   "metadata": {},
   "source": [
    "Function that calculates the multidimensional normal distribution. [Source](https://en.wikipedia.org/wiki/Multivariate_normal_distribution)"
   ]
  },
  {
   "cell_type": "code",
   "execution_count": 10,
   "metadata": {},
   "outputs": [],
   "source": [
    "\"\"\"\n",
    "    Pdf of the multivariate normal distribution.\n",
    "\"\"\"\n",
    "def multivariate_normal(x, d, mean, covariance):\n",
    "    x_m = x - mean\n",
    "    dinom = math.sqrt((2 * 3.14)**d * np.linalg.det(covariance))\n",
    "    expNom = np.exp(-(np.linalg.solve(covariance, x_m).T.dot(x_m)) / 2)\n",
    "    return (1/dinom)*expNom\n",
    "\n",
    "\n",
    "\"\"\"\n",
    "    Splits tha given dataset to test and train according to the index. That is \n",
    "    to implement the 10-Fold cross validation\n",
    "\"\"\"\n",
    "def split_test_train(df, index):\n",
    "    test = df[int(index*len(df)*0.1):int(index*len(df)*0.1)+int(len(df)*0.1)]\n",
    "    train = df[0:int(index*len(df)*0.1)]\n",
    "    train = train.append(df[int(index*len(df)*0.1)+int(len(df)*0.1):])\n",
    "    return train, test"
   ]
  },
  {
   "cell_type": "markdown",
   "metadata": {},
   "source": [
    "Load the dataset\n"
   ]
  },
  {
   "cell_type": "code",
   "execution_count": 11,
   "metadata": {},
   "outputs": [],
   "source": [
    "file_path = \"../UCIdata-exercise1/pima-indians-diabetes.data\"\n",
    "df = pd.read_csv(file_path, header=None).sample(frac=1)"
   ]
  },
  {
   "cell_type": "markdown",
   "metadata": {},
   "source": [
    "Split the dataset and implement the **Bayses Classifications** using 10-fold **_cross validation_**"
   ]
  },
  {
   "cell_type": "code",
   "execution_count": 12,
   "metadata": {},
   "outputs": [
    {
     "name": "stdout",
     "output_type": "stream",
     "text": [
      "0 ) Accuracy 73.68 %\n",
      "1 ) Accuracy 71.05 %\n",
      "2 ) Accuracy 69.74000000000001 %\n",
      "3 ) Accuracy 73.68 %\n",
      "4 ) Accuracy 71.05 %\n",
      "5 ) Accuracy 68.42 %\n",
      "6 ) Accuracy 76.32 %\n",
      "7 ) Accuracy 78.95 %\n",
      "8 ) Accuracy 80.25999999999999 %\n",
      "9 ) Accuracy 76.32 %\n",
      "Mean of Accuracy :  73.95 %\n"
     ]
    }
   ],
   "source": [
    "sum = 0\n",
    "for index in range(10):\n",
    "    # Make the train/test set\n",
    "    train, test = split_test_train(df, index)\n",
    "\n",
    "    train0 = train.loc[train[8] == 0]\n",
    "    train0_x = train0.iloc[:,:-1].values\n",
    "    train0_y = train0.iloc[:,-1].values\n",
    "    P0 = train0.values.shape[0]/train.values.shape[0]\n",
    "    m0 = np.mean(train0_x, axis=0)\n",
    "    s0 = np.cov(train0_x.T)\n",
    "\n",
    "\n",
    "    train1 = train.loc[train[8] == 1]\n",
    "    train1_x = train1.iloc[:,:-1].values\n",
    "    train1_y = train1.iloc[:,-1].values\n",
    "    P1 = train1.values.shape[0]/train.values.shape[0]\n",
    "    m1 = np.mean(train1_x, axis=0)\n",
    "    s1 = np.cov(train1_x.T)\n",
    "\n",
    "    test_x = test.iloc[:,:-1].values\n",
    "    test_y = test.iloc[:,-1].values\n",
    "\n",
    "    test_pred =[]\n",
    "\n",
    "    for row in test_x:\n",
    "        p0 = multivariate_normal(row, train0_x.shape[1], m0, s0)\n",
    "        p1 = multivariate_normal(row, train1_x.shape[1], m1, s1)\n",
    "\n",
    "        if (P0*p0 > P1*p1): \n",
    "            test_pred.append(0)\n",
    "        else:\n",
    "            test_pred.append(1)\n",
    "\n",
    "    total_correct = 0\n",
    "    for i in range(len(test_pred)): \n",
    "        if test_pred[i] == test_y[i]: \n",
    "            total_correct += 1\n",
    "\n",
    "    accuracy = total_correct/len(test_pred)\n",
    "    sum+=accuracy\n",
    "    print(index, \") Accuracy\", round(accuracy, 4)*100, \"%\")\n",
    "    \n",
    "print(\"Mean of Accuracy : \", round(sum/10, 4)*100, \"%\")"
   ]
  }
 ],
 "metadata": {
  "kernelspec": {
   "display_name": "Python 3",
   "language": "python",
   "name": "python3"
  },
  "language_info": {
   "codemirror_mode": {
    "name": "ipython",
    "version": 3
   },
   "file_extension": ".py",
   "mimetype": "text/x-python",
   "name": "python",
   "nbconvert_exporter": "python",
   "pygments_lexer": "ipython3",
   "version": "3.7.3"
  }
 },
 "nbformat": 4,
 "nbformat_minor": 2
}
